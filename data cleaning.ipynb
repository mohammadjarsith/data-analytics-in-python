{
 "cells": [
  {
   "cell_type": "code",
   "execution_count": 1,
   "id": "abf87892",
   "metadata": {},
   "outputs": [],
   "source": [
    "import pandas as pd"
   ]
  },
  {
   "cell_type": "code",
   "execution_count": 2,
   "id": "1103ebaa",
   "metadata": {},
   "outputs": [],
   "source": [
    "salary_data=pd.DataFrame({'Salary':[19000,31000,67000,78000],'Range':['low','mid','high','high'],'name':['sada','purosath','vishwa','vasanth']})"
   ]
  },
  {
   "cell_type": "code",
   "execution_count": 3,
   "id": "2cb55e00",
   "metadata": {},
   "outputs": [
    {
     "data": {
      "text/html": [
       "<div>\n",
       "<style scoped>\n",
       "    .dataframe tbody tr th:only-of-type {\n",
       "        vertical-align: middle;\n",
       "    }\n",
       "\n",
       "    .dataframe tbody tr th {\n",
       "        vertical-align: top;\n",
       "    }\n",
       "\n",
       "    .dataframe thead th {\n",
       "        text-align: right;\n",
       "    }\n",
       "</style>\n",
       "<table border=\"1\" class=\"dataframe\">\n",
       "  <thead>\n",
       "    <tr style=\"text-align: right;\">\n",
       "      <th></th>\n",
       "      <th>Salary</th>\n",
       "      <th>Range</th>\n",
       "      <th>name</th>\n",
       "    </tr>\n",
       "  </thead>\n",
       "  <tbody>\n",
       "    <tr>\n",
       "      <th>0</th>\n",
       "      <td>19000</td>\n",
       "      <td>low</td>\n",
       "      <td>sada</td>\n",
       "    </tr>\n",
       "    <tr>\n",
       "      <th>1</th>\n",
       "      <td>31000</td>\n",
       "      <td>mid</td>\n",
       "      <td>purosath</td>\n",
       "    </tr>\n",
       "    <tr>\n",
       "      <th>2</th>\n",
       "      <td>67000</td>\n",
       "      <td>high</td>\n",
       "      <td>vishwa</td>\n",
       "    </tr>\n",
       "    <tr>\n",
       "      <th>3</th>\n",
       "      <td>78000</td>\n",
       "      <td>high</td>\n",
       "      <td>vasanth</td>\n",
       "    </tr>\n",
       "  </tbody>\n",
       "</table>\n",
       "</div>"
      ],
      "text/plain": [
       "   Salary Range      name\n",
       "0   19000   low      sada\n",
       "1   31000   mid  purosath\n",
       "2   67000  high    vishwa\n",
       "3   78000  high   vasanth"
      ]
     },
     "execution_count": 3,
     "metadata": {},
     "output_type": "execute_result"
    }
   ],
   "source": [
    "salary_data"
   ]
  },
  {
   "cell_type": "code",
   "execution_count": 17,
   "id": "58fcf959",
   "metadata": {},
   "outputs": [],
   "source": [
    "a= salary_data.Salary.map({19000:4,31000:3,67000:2,78000:1})"
   ]
  },
  {
   "cell_type": "code",
   "execution_count": 18,
   "id": "de07fd33",
   "metadata": {},
   "outputs": [
    {
     "data": {
      "text/plain": [
       "0    4\n",
       "1    3\n",
       "2    2\n",
       "3    1\n",
       "Name: Salary, dtype: int64"
      ]
     },
     "execution_count": 18,
     "metadata": {},
     "output_type": "execute_result"
    }
   ],
   "source": [
    "a"
   ]
  },
  {
   "cell_type": "markdown",
   "id": "bc8ae227",
   "metadata": {},
   "source": [
    "# normalization"
   ]
  },
  {
   "cell_type": "code",
   "execution_count": 10,
   "id": "2c64d65d",
   "metadata": {},
   "outputs": [
    {
     "name": "stdout",
     "output_type": "stream",
     "text": [
      "Collecting matplotlib\n",
      "  Downloading matplotlib-3.7.1-cp39-cp39-win_amd64.whl (7.6 MB)\n",
      "     ---------------------------------------- 0.0/7.6 MB ? eta -:--:--\n",
      "      --------------------------------------- 0.1/7.6 MB 3.3 MB/s eta 0:00:03\n",
      "     --- ------------------------------------ 0.6/7.6 MB 9.6 MB/s eta 0:00:01\n",
      "     ------ --------------------------------- 1.1/7.6 MB 10.4 MB/s eta 0:00:01\n",
      "     --------- ------------------------------ 1.8/7.6 MB 10.1 MB/s eta 0:00:01\n",
      "     ------------ --------------------------- 2.4/7.6 MB 11.6 MB/s eta 0:00:01\n",
      "     --------------- ------------------------ 2.9/7.6 MB 11.7 MB/s eta 0:00:01\n",
      "     ------------------ --------------------- 3.5/7.6 MB 11.8 MB/s eta 0:00:01\n",
      "     --------------------- ------------------ 4.0/7.6 MB 11.2 MB/s eta 0:00:01\n",
      "     ------------------------ --------------- 4.6/7.6 MB 11.7 MB/s eta 0:00:01\n",
      "     --------------------------- ------------ 5.2/7.6 MB 11.8 MB/s eta 0:00:01\n",
      "     ------------------------------ --------- 5.8/7.6 MB 12.0 MB/s eta 0:00:01\n",
      "     --------------------------------- ------ 6.4/7.6 MB 11.7 MB/s eta 0:00:01\n",
      "     ------------------------------------ --- 6.9/7.6 MB 11.6 MB/s eta 0:00:01\n",
      "     ---------------------------------------  7.5/7.6 MB 11.6 MB/s eta 0:00:01\n",
      "     ---------------------------------------  7.6/7.6 MB 11.6 MB/s eta 0:00:01\n",
      "     ---------------------------------------  7.6/7.6 MB 11.6 MB/s eta 0:00:01\n",
      "     ---------------------------------------- 7.6/7.6 MB 9.8 MB/s eta 0:00:00\n",
      "Requirement already satisfied: python-dateutil>=2.7 in c:\\users\\aedpu\\anaconda3\\envs\\divagar\\lib\\site-packages (from matplotlib) (2.8.2)\n",
      "Collecting cycler>=0.10\n",
      "  Downloading cycler-0.11.0-py3-none-any.whl (6.4 kB)\n",
      "Requirement already satisfied: numpy>=1.20 in c:\\users\\aedpu\\anaconda3\\envs\\divagar\\lib\\site-packages (from matplotlib) (1.24.2)\n",
      "Collecting importlib-resources>=3.2.0\n",
      "  Downloading importlib_resources-5.12.0-py3-none-any.whl (36 kB)\n",
      "Collecting kiwisolver>=1.0.1\n",
      "  Downloading kiwisolver-1.4.4-cp39-cp39-win_amd64.whl (55 kB)\n",
      "     ---------------------------------------- 0.0/55.4 kB ? eta -:--:--\n",
      "     -------------------------------------- 55.4/55.4 kB 961.1 kB/s eta 0:00:00\n",
      "Collecting pillow>=6.2.0\n",
      "  Downloading Pillow-9.4.0-cp39-cp39-win_amd64.whl (2.5 MB)\n",
      "     ---------------------------------------- 0.0/2.5 MB ? eta -:--:--\n",
      "     -------- ------------------------------- 0.5/2.5 MB 16.8 MB/s eta 0:00:01\n",
      "     ------------------ --------------------- 1.1/2.5 MB 11.9 MB/s eta 0:00:01\n",
      "     ---------------------------- ----------- 1.8/2.5 MB 12.3 MB/s eta 0:00:01\n",
      "     ----------------------------------- ---- 2.2/2.5 MB 11.6 MB/s eta 0:00:01\n",
      "     ---------------------------------------  2.5/2.5 MB 11.4 MB/s eta 0:00:01\n",
      "     ---------------------------------------  2.5/2.5 MB 11.4 MB/s eta 0:00:01\n",
      "     ---------------------------------------- 2.5/2.5 MB 8.4 MB/s eta 0:00:00\n",
      "Requirement already satisfied: packaging>=20.0 in c:\\users\\aedpu\\anaconda3\\envs\\divagar\\lib\\site-packages (from matplotlib) (22.0)\n",
      "Collecting pyparsing>=2.3.1\n",
      "  Downloading pyparsing-3.0.9-py3-none-any.whl (98 kB)\n",
      "     ---------------------------------------- 0.0/98.3 kB ? eta -:--:--\n",
      "     ---------------------------------------- 98.3/98.3 kB 5.9 MB/s eta 0:00:00\n",
      "Collecting contourpy>=1.0.1\n",
      "  Downloading contourpy-1.0.7-cp39-cp39-win_amd64.whl (160 kB)\n",
      "     ---------------------------------------- 0.0/160.2 kB ? eta -:--:--\n",
      "     ------------------------------------ - 153.6/160.2 kB 9.6 MB/s eta 0:00:01\n",
      "     -------------------------------------- 160.2/160.2 kB 3.2 MB/s eta 0:00:00\n",
      "Collecting fonttools>=4.22.0\n",
      "  Downloading fonttools-4.39.2-py3-none-any.whl (1.0 MB)\n",
      "     ---------------------------------------- 0.0/1.0 MB ? eta -:--:--\n",
      "     ------------------------- -------------- 0.6/1.0 MB 20.5 MB/s eta 0:00:01\n",
      "     ---------------------------------------  1.0/1.0 MB 15.8 MB/s eta 0:00:01\n",
      "     ---------------------------------------- 1.0/1.0 MB 9.1 MB/s eta 0:00:00\n",
      "Collecting zipp>=3.1.0\n",
      "  Downloading zipp-3.15.0-py3-none-any.whl (6.8 kB)\n",
      "Requirement already satisfied: six>=1.5 in c:\\users\\aedpu\\anaconda3\\envs\\divagar\\lib\\site-packages (from python-dateutil>=2.7->matplotlib) (1.16.0)\n",
      "Installing collected packages: zipp, pyparsing, pillow, kiwisolver, fonttools, cycler, contourpy, importlib-resources, matplotlib\n",
      "Successfully installed contourpy-1.0.7 cycler-0.11.0 fonttools-4.39.2 importlib-resources-5.12.0 kiwisolver-1.4.4 matplotlib-3.7.1 pillow-9.4.0 pyparsing-3.0.9 zipp-3.15.0\n",
      "Note: you may need to restart the kernel to use updated packages.\n"
     ]
    }
   ],
   "source": [
    "pip install matplotlib"
   ]
  },
  {
   "cell_type": "code",
   "execution_count": 1,
   "id": "3b8bae8a",
   "metadata": {},
   "outputs": [
    {
     "name": "stdout",
     "output_type": "stream",
     "text": [
      "Requirement already satisfied: scikit-learn in c:\\users\\aedpu\\anaconda3\\envs\\divagar\\lib\\site-packages (1.2.2)\n",
      "Requirement already satisfied: threadpoolctl>=2.0.0 in c:\\users\\aedpu\\anaconda3\\envs\\divagar\\lib\\site-packages (from scikit-learn) (3.1.0)\n",
      "Requirement already satisfied: joblib>=1.1.1 in c:\\users\\aedpu\\anaconda3\\envs\\divagar\\lib\\site-packages (from scikit-learn) (1.2.0)\n",
      "Requirement already satisfied: numpy>=1.17.3 in c:\\users\\aedpu\\anaconda3\\envs\\divagar\\lib\\site-packages (from scikit-learn) (1.24.2)\n",
      "Requirement already satisfied: scipy>=1.3.2 in c:\\users\\aedpu\\anaconda3\\envs\\divagar\\lib\\site-packages (from scikit-learn) (1.10.1)\n",
      "Note: you may need to restart the kernel to use updated packages.\n"
     ]
    }
   ],
   "source": [
    "pip install scikit-learn"
   ]
  },
  {
   "cell_type": "code",
   "execution_count": 2,
   "id": "c1cc2209",
   "metadata": {},
   "outputs": [],
   "source": [
    "import matplotlib.pyplot as plt\n",
    "from mpl_toolkits.mplot3d import Axes3D\n",
    "%matplotlib inline"
   ]
  },
  {
   "cell_type": "code",
   "execution_count": 3,
   "id": "02cdb0e3",
   "metadata": {},
   "outputs": [],
   "source": [
    "import numpy as np\n",
    "import pandas as pd"
   ]
  },
  {
   "cell_type": "code",
   "execution_count": 23,
   "id": "17a1656e",
   "metadata": {},
   "outputs": [],
   "source": [
    "normalization_df=pd.DataFrame({'x':np.random.randint(-5000,2000,100000),'y':np.random.randint(-100,98,100000),'z':np.random.randint(-600,500,100000)})"
   ]
  },
  {
   "cell_type": "code",
   "execution_count": 24,
   "id": "b77a30df",
   "metadata": {},
   "outputs": [
    {
     "data": {
      "text/html": [
       "<div>\n",
       "<style scoped>\n",
       "    .dataframe tbody tr th:only-of-type {\n",
       "        vertical-align: middle;\n",
       "    }\n",
       "\n",
       "    .dataframe tbody tr th {\n",
       "        vertical-align: top;\n",
       "    }\n",
       "\n",
       "    .dataframe thead th {\n",
       "        text-align: right;\n",
       "    }\n",
       "</style>\n",
       "<table border=\"1\" class=\"dataframe\">\n",
       "  <thead>\n",
       "    <tr style=\"text-align: right;\">\n",
       "      <th></th>\n",
       "      <th>x</th>\n",
       "      <th>y</th>\n",
       "      <th>z</th>\n",
       "    </tr>\n",
       "  </thead>\n",
       "  <tbody>\n",
       "    <tr>\n",
       "      <th>0</th>\n",
       "      <td>-823</td>\n",
       "      <td>-15</td>\n",
       "      <td>-400</td>\n",
       "    </tr>\n",
       "    <tr>\n",
       "      <th>1</th>\n",
       "      <td>1633</td>\n",
       "      <td>-43</td>\n",
       "      <td>-193</td>\n",
       "    </tr>\n",
       "    <tr>\n",
       "      <th>2</th>\n",
       "      <td>-459</td>\n",
       "      <td>58</td>\n",
       "      <td>-5</td>\n",
       "    </tr>\n",
       "    <tr>\n",
       "      <th>3</th>\n",
       "      <td>-3429</td>\n",
       "      <td>69</td>\n",
       "      <td>-554</td>\n",
       "    </tr>\n",
       "    <tr>\n",
       "      <th>4</th>\n",
       "      <td>-1656</td>\n",
       "      <td>23</td>\n",
       "      <td>227</td>\n",
       "    </tr>\n",
       "    <tr>\n",
       "      <th>...</th>\n",
       "      <td>...</td>\n",
       "      <td>...</td>\n",
       "      <td>...</td>\n",
       "    </tr>\n",
       "    <tr>\n",
       "      <th>99995</th>\n",
       "      <td>-967</td>\n",
       "      <td>-7</td>\n",
       "      <td>-77</td>\n",
       "    </tr>\n",
       "    <tr>\n",
       "      <th>99996</th>\n",
       "      <td>-306</td>\n",
       "      <td>-17</td>\n",
       "      <td>-553</td>\n",
       "    </tr>\n",
       "    <tr>\n",
       "      <th>99997</th>\n",
       "      <td>-1820</td>\n",
       "      <td>52</td>\n",
       "      <td>415</td>\n",
       "    </tr>\n",
       "    <tr>\n",
       "      <th>99998</th>\n",
       "      <td>1074</td>\n",
       "      <td>29</td>\n",
       "      <td>-256</td>\n",
       "    </tr>\n",
       "    <tr>\n",
       "      <th>99999</th>\n",
       "      <td>-4768</td>\n",
       "      <td>89</td>\n",
       "      <td>-20</td>\n",
       "    </tr>\n",
       "  </tbody>\n",
       "</table>\n",
       "<p>100000 rows × 3 columns</p>\n",
       "</div>"
      ],
      "text/plain": [
       "          x   y    z\n",
       "0      -823 -15 -400\n",
       "1      1633 -43 -193\n",
       "2      -459  58   -5\n",
       "3     -3429  69 -554\n",
       "4     -1656  23  227\n",
       "...     ...  ..  ...\n",
       "99995  -967  -7  -77\n",
       "99996  -306 -17 -553\n",
       "99997 -1820  52  415\n",
       "99998  1074  29 -256\n",
       "99999 -4768  89  -20\n",
       "\n",
       "[100000 rows x 3 columns]"
      ]
     },
     "execution_count": 24,
     "metadata": {},
     "output_type": "execute_result"
    }
   ],
   "source": [
    "normalization_df"
   ]
  },
  {
   "cell_type": "code",
   "execution_count": 25,
   "id": "c6bfc0e0",
   "metadata": {},
   "outputs": [
    {
     "data": {
      "text/plain": [
       "<Figure size 640x480 with 0 Axes>"
      ]
     },
     "execution_count": 25,
     "metadata": {},
     "output_type": "execute_result"
    },
    {
     "data": {
      "image/png": "[encoded data removed]",
      "text/plain": [
       "<Figure size 640x480 with 1 Axes>"
      ]
     },
     "metadata": {},
     "output_type": "display_data"
    },
    {
     "data": {
      "text/plain": [
       "<Figure size 640x480 with 0 Axes>"
      ]
     },
     "metadata": {},
     "output_type": "display_data"
    }
   ],
   "source": [
    "ax=plt.axes(projection='3d')\n",
    "ax.scatter3D(normalization_df.x,normalization_df.y,normalization_df.z)\n",
    "plt.figure()"
   ]
  },
  {
   "cell_type": "code",
   "execution_count": 26,
   "id": "d10ee2f0",
   "metadata": {},
   "outputs": [],
   "source": [
    "from sklearn.preprocessing import Normalizer"
   ]
  },
  {
   "cell_type": "code",
   "execution_count": 27,
   "id": "4e7c568f",
   "metadata": {},
   "outputs": [],
   "source": [
    "normal=Normalizer()"
   ]
  },
  {
   "cell_type": "code",
   "execution_count": 28,
   "id": "49bf95a9",
   "metadata": {},
   "outputs": [],
   "source": [
    "normalization_df=normal.fit_transform(normalization_df)"
   ]
  },
  {
   "cell_type": "code",
   "execution_count": 29,
   "id": "b4146910",
   "metadata": {},
   "outputs": [
    {
     "data": {
      "text/plain": [
       "array([[-0.89927688, -0.01639022, -0.4370726 ],\n",
       "       [ 0.99274883, -0.02614097, -0.11733039],\n",
       "       [-0.99205279,  0.12535743, -0.01080668],\n",
       "       ...,\n",
       "       [-0.97459668,  0.02784562,  0.22222946],\n",
       "       [ 0.9724125 ,  0.02625695, -0.23178547],\n",
       "       [-0.99981704,  0.01866269, -0.00419386]])"
      ]
     },
     "execution_count": 29,
     "metadata": {},
     "output_type": "execute_result"
    }
   ],
   "source": [
    "normalization_df"
   ]
  },
  {
   "cell_type": "code",
   "execution_count": 30,
   "id": "09adf3c2",
   "metadata": {},
   "outputs": [],
   "source": [
    "norm_df=pd.DataFrame(normalization_df,columns=['y1','y2','y3'])"
   ]
  },
  {
   "cell_type": "raw",
   "id": "70c90a32",
   "metadata": {},
   "source": [
    "norm_df"
   ]
  },
  {
   "cell_type": "code",
   "execution_count": 32,
   "id": "5ce3c447",
   "metadata": {},
   "outputs": [
    {
     "data": {
      "text/plain": [
       "<Figure size 640x480 with 0 Axes>"
      ]
     },
     "execution_count": 32,
     "metadata": {},
     "output_type": "execute_result"
    },
    {
     "data": {
      "image/png": "[encoded data removed]",
      "text/plain": [
       "<Figure size 640x480 with 1 Axes>"
      ]
     },
     "metadata": {},
     "output_type": "display_data"
    },
    {
     "data": {
      "text/plain": [
       "<Figure size 640x480 with 0 Axes>"
      ]
     },
     "metadata": {},
     "output_type": "display_data"
    }
   ],
   "source": [
    "ax=plt.axes(projection='3d')\n",
    "ax.scatter3D(norm_df.y1,norm_df.y2,norm_df.y3)\n",
    "plt.figure()"
   ]
  },
  {
   "cell_type": "markdown",
   "id": "5c11ed44",
   "metadata": {},
   "source": [
    "# data sorting"
   ]
  },
  {
   "cell_type": "code",
   "execution_count": 33,
   "id": "991c030d",
   "metadata": {},
   "outputs": [],
   "source": [
    "data=[89,4,65,3,23,34,1,22,45,54,76,11,98,9]"
   ]
  },
  {
   "cell_type": "code",
   "execution_count": 34,
   "id": "00ec4af8",
   "metadata": {},
   "outputs": [
    {
     "name": "stdout",
     "output_type": "stream",
     "text": [
      "[1, 3, 4, 9, 11, 22, 23, 34, 45, 54, 65, 76, 89, 98]\n"
     ]
    }
   ],
   "source": [
    "data.sort()\n",
    "print(data)"
   ]
  },
  {
   "cell_type": "code",
   "execution_count": 36,
   "id": "3ce69f8f",
   "metadata": {},
   "outputs": [
    {
     "name": "stdout",
     "output_type": "stream",
     "text": [
      "[98, 89, 76, 65, 54, 45, 34, 23, 22, 11, 9, 4, 3, 1]\n"
     ]
    }
   ],
   "source": [
    "data.reverse()\n",
    "print(data)"
   ]
  },
  {
   "cell_type": "markdown",
   "id": "31aebcd2",
   "metadata": {},
   "source": [
    "# missing value"
   ]
  },
  {
   "cell_type": "code",
   "execution_count": 37,
   "id": "c64b3eb8",
   "metadata": {},
   "outputs": [],
   "source": [
    "import numpy as np\n",
    "import pandas as pd"
   ]
  },
  {
   "cell_type": "code",
   "execution_count": 46,
   "id": "96ae64e5",
   "metadata": {},
   "outputs": [],
   "source": [
    "data={'1 score':[100,90,np.nan,95],'2 score':[30,40,np.nan,56],'3 score':[np.nan,76,np.nan,63]}"
   ]
  },
  {
   "cell_type": "raw",
   "id": "63cb9295",
   "metadata": {},
   "source": []
  },
  {
   "cell_type": "code",
   "execution_count": 47,
   "id": "cde1bd7e",
   "metadata": {},
   "outputs": [],
   "source": [
    "scores=pd.DataFrame(data)"
   ]
  },
  {
   "cell_type": "code",
   "execution_count": 48,
   "id": "0f9ef66f",
   "metadata": {},
   "outputs": [
    {
     "data": {
      "text/html": [
       "<div>\n",
       "<style scoped>\n",
       "    .dataframe tbody tr th:only-of-type {\n",
       "        vertical-align: middle;\n",
       "    }\n",
       "\n",
       "    .dataframe tbody tr th {\n",
       "        vertical-align: top;\n",
       "    }\n",
       "\n",
       "    .dataframe thead th {\n",
       "        text-align: right;\n",
       "    }\n",
       "</style>\n",
       "<table border=\"1\" class=\"dataframe\">\n",
       "  <thead>\n",
       "    <tr style=\"text-align: right;\">\n",
       "      <th></th>\n",
       "      <th>1 score</th>\n",
       "      <th>2 score</th>\n",
       "      <th>3 score</th>\n",
       "    </tr>\n",
       "  </thead>\n",
       "  <tbody>\n",
       "    <tr>\n",
       "      <th>0</th>\n",
       "      <td>100.0</td>\n",
       "      <td>30.0</td>\n",
       "      <td>NaN</td>\n",
       "    </tr>\n",
       "    <tr>\n",
       "      <th>1</th>\n",
       "      <td>90.0</td>\n",
       "      <td>40.0</td>\n",
       "      <td>76.0</td>\n",
       "    </tr>\n",
       "    <tr>\n",
       "      <th>2</th>\n",
       "      <td>NaN</td>\n",
       "      <td>NaN</td>\n",
       "      <td>NaN</td>\n",
       "    </tr>\n",
       "    <tr>\n",
       "      <th>3</th>\n",
       "      <td>95.0</td>\n",
       "      <td>56.0</td>\n",
       "      <td>63.0</td>\n",
       "    </tr>\n",
       "  </tbody>\n",
       "</table>\n",
       "</div>"
      ],
      "text/plain": [
       "   1 score  2 score  3 score\n",
       "0    100.0     30.0      NaN\n",
       "1     90.0     40.0     76.0\n",
       "2      NaN      NaN      NaN\n",
       "3     95.0     56.0     63.0"
      ]
     },
     "execution_count": 48,
     "metadata": {},
     "output_type": "execute_result"
    }
   ],
   "source": [
    "scores"
   ]
  },
  {
   "cell_type": "code",
   "execution_count": 49,
   "id": "6a06b340",
   "metadata": {},
   "outputs": [
    {
     "data": {
      "text/html": [
       "<div>\n",
       "<style scoped>\n",
       "    .dataframe tbody tr th:only-of-type {\n",
       "        vertical-align: middle;\n",
       "    }\n",
       "\n",
       "    .dataframe tbody tr th {\n",
       "        vertical-align: top;\n",
       "    }\n",
       "\n",
       "    .dataframe thead th {\n",
       "        text-align: right;\n",
       "    }\n",
       "</style>\n",
       "<table border=\"1\" class=\"dataframe\">\n",
       "  <thead>\n",
       "    <tr style=\"text-align: right;\">\n",
       "      <th></th>\n",
       "      <th>1 score</th>\n",
       "      <th>2 score</th>\n",
       "      <th>3 score</th>\n",
       "    </tr>\n",
       "  </thead>\n",
       "  <tbody>\n",
       "    <tr>\n",
       "      <th>0</th>\n",
       "      <td>False</td>\n",
       "      <td>False</td>\n",
       "      <td>True</td>\n",
       "    </tr>\n",
       "    <tr>\n",
       "      <th>1</th>\n",
       "      <td>False</td>\n",
       "      <td>False</td>\n",
       "      <td>False</td>\n",
       "    </tr>\n",
       "    <tr>\n",
       "      <th>2</th>\n",
       "      <td>True</td>\n",
       "      <td>True</td>\n",
       "      <td>True</td>\n",
       "    </tr>\n",
       "    <tr>\n",
       "      <th>3</th>\n",
       "      <td>False</td>\n",
       "      <td>False</td>\n",
       "      <td>False</td>\n",
       "    </tr>\n",
       "  </tbody>\n",
       "</table>\n",
       "</div>"
      ],
      "text/plain": [
       "   1 score  2 score  3 score\n",
       "0    False    False     True\n",
       "1    False    False    False\n",
       "2     True     True     True\n",
       "3    False    False    False"
      ]
     },
     "execution_count": 49,
     "metadata": {},
     "output_type": "execute_result"
    }
   ],
   "source": [
    "scores.isnull()"
   ]
  },
  {
   "cell_type": "code",
   "execution_count": 50,
   "id": "a8554b11",
   "metadata": {},
   "outputs": [
    {
     "data": {
      "text/plain": [
       "1 score    1\n",
       "2 score    1\n",
       "3 score    2\n",
       "dtype: int64"
      ]
     },
     "execution_count": 50,
     "metadata": {},
     "output_type": "execute_result"
    }
   ],
   "source": [
    "scores.isnull().sum()"
   ]
  },
  {
   "cell_type": "code",
   "execution_count": 52,
   "id": "973c2050",
   "metadata": {},
   "outputs": [],
   "source": [
    "from sklearn.impute import SimpleImputer"
   ]
  },
  {
   "cell_type": "code",
   "execution_count": 59,
   "id": "3b479fa0",
   "metadata": {},
   "outputs": [],
   "source": [
    "imputer=SimpleImputer(missing_values=np.nan,strategy='mean')\n"
   ]
  },
  {
   "cell_type": "code",
   "execution_count": 60,
   "id": "84f69823",
   "metadata": {},
   "outputs": [
    {
     "data": {
      "text/html": [
       "<style>#sk-container-id-3 {color: black;background-color: white;}#sk-container-id-3 pre{padding: 0;}#sk-container-id-3 div.sk-toggleable {background-color: white;}#sk-container-id-3 label.sk-toggleable__label {cursor: pointer;display: block;width: 100%;margin-bottom: 0;padding: 0.3em;box-sizing: border-box;text-align: center;}#sk-container-id-3 label.sk-toggleable__label-arrow:before {content: \"▸\";float: left;margin-right: 0.25em;color: #696969;}#sk-container-id-3 label.sk-toggleable__label-arrow:hover:before {color: black;}#sk-container-id-3 div.sk-estimator:hover label.sk-toggleable__label-arrow:before {color: black;}#sk-container-id-3 div.sk-toggleable__content {max-height: 0;max-width: 0;overflow: hidden;text-align: left;background-color: #f0f8ff;}#sk-container-id-3 div.sk-toggleable__content pre {margin: 0.2em;color: black;border-radius: 0.25em;background-color: #f0f8ff;}#sk-container-id-3 input.sk-toggleable__control:checked~div.sk-toggleable__content {max-height: 200px;max-width: 100%;overflow: auto;}#sk-container-id-3 input.sk-toggleable__control:checked~label.sk-toggleable__label-arrow:before {content: \"▾\";}#sk-container-id-3 div.sk-estimator input.sk-toggleable__control:checked~label.sk-toggleable__label {background-color: #d4ebff;}#sk-container-id-3 div.sk-label input.sk-toggleable__control:checked~label.sk-toggleable__label {background-color: #d4ebff;}#sk-container-id-3 input.sk-hidden--visually {border: 0;clip: rect(1px 1px 1px 1px);clip: rect(1px, 1px, 1px, 1px);height: 1px;margin: -1px;overflow: hidden;padding: 0;position: absolute;width: 1px;}#sk-container-id-3 div.sk-estimator {font-family: monospace;background-color: #f0f8ff;border: 1px dotted black;border-radius: 0.25em;box-sizing: border-box;margin-bottom: 0.5em;}#sk-container-id-3 div.sk-estimator:hover {background-color: #d4ebff;}#sk-container-id-3 div.sk-parallel-item::after {content: \"\";width: 100%;border-bottom: 1px solid gray;flex-grow: 1;}#sk-container-id-3 div.sk-label:hover label.sk-toggleable__label {background-color: #d4ebff;}#sk-container-id-3 div.sk-serial::before {content: \"\";position: absolute;border-left: 1px solid gray;box-sizing: border-box;top: 0;bottom: 0;left: 50%;z-index: 0;}#sk-container-id-3 div.sk-serial {display: flex;flex-direction: column;align-items: center;background-color: white;padding-right: 0.2em;padding-left: 0.2em;position: relative;}#sk-container-id-3 div.sk-item {position: relative;z-index: 1;}#sk-container-id-3 div.sk-parallel {display: flex;align-items: stretch;justify-content: center;background-color: white;position: relative;}#sk-container-id-3 div.sk-item::before, #sk-container-id-3 div.sk-parallel-item::before {content: \"\";position: absolute;border-left: 1px solid gray;box-sizing: border-box;top: 0;bottom: 0;left: 50%;z-index: -1;}#sk-container-id-3 div.sk-parallel-item {display: flex;flex-direction: column;z-index: 1;position: relative;background-color: white;}#sk-container-id-3 div.sk-parallel-item:first-child::after {align-self: flex-end;width: 50%;}#sk-container-id-3 div.sk-parallel-item:last-child::after {align-self: flex-start;width: 50%;}#sk-container-id-3 div.sk-parallel-item:only-child::after {width: 0;}#sk-container-id-3 div.sk-dashed-wrapped {border: 1px dashed gray;margin: 0 0.4em 0.5em 0.4em;box-sizing: border-box;padding-bottom: 0.4em;background-color: white;}#sk-container-id-3 div.sk-label label {font-family: monospace;font-weight: bold;display: inline-block;line-height: 1.2em;}#sk-container-id-3 div.sk-label-container {text-align: center;}#sk-container-id-3 div.sk-container {/* jupyter's `normalize.less` sets `[hidden] { display: none; }` but bootstrap.min.css set `[hidden] { display: none !important; }` so we also need the `!important` here to be able to override the default hidden behavior on the sphinx rendered scikit-learn.org. See: https://github.com/scikit-learn/scikit-learn/issues/21755 */display: inline-block !important;position: relative;}#sk-container-id-3 div.sk-text-repr-fallback {display: none;}</style><div id=\"sk-container-id-3\" class=\"sk-top-container\"><div class=\"sk-text-repr-fallback\"><pre>SimpleImputer()</pre><b>In a Jupyter environment, please rerun this cell to show the HTML representation or trust the notebook. <br />On GitHub, the HTML representation is unable to render, please try loading this page with nbviewer.org.</b></div><div class=\"sk-container\" hidden><div class=\"sk-item\"><div class=\"sk-estimator sk-toggleable\"><input class=\"sk-toggleable__control sk-hidden--visually\" id=\"sk-estimator-id-3\" type=\"checkbox\" checked><label for=\"sk-estimator-id-3\" class=\"sk-toggleable__label sk-toggleable__label-arrow\">SimpleImputer</label><div class=\"sk-toggleable__content\"><pre>SimpleImputer()</pre></div></div></div></div></div>"
      ],
      "text/plain": [
       "SimpleImputer()"
      ]
     },
     "execution_count": 60,
     "metadata": {},
     "output_type": "execute_result"
    }
   ],
   "source": [
    "imputer.fit(scores)"
   ]
  },
  {
   "cell_type": "code",
   "execution_count": 61,
   "id": "4ba46d7c",
   "metadata": {},
   "outputs": [
    {
     "data": {
      "text/plain": [
       "array([[100. ,  30. ,  69.5],\n",
       "       [ 90. ,  40. ,  76. ],\n",
       "       [ 95. ,  42. ,  69.5],\n",
       "       [ 95. ,  56. ,  63. ]])"
      ]
     },
     "execution_count": 61,
     "metadata": {},
     "output_type": "execute_result"
    }
   ],
   "source": [
    "imputer.transform(scores)"
   ]
  },
  {
   "cell_type": "code",
   "execution_count": null,
   "id": "471178c0",
   "metadata": {},
   "outputs": [],
   "source": []
  },
  {
   "cell_type": "code",
   "execution_count": null,
   "id": "7196dc1e",
   "metadata": {},
   "outputs": [],
   "source": []
  }
 ],
 "metadata": {
  "kernelspec": {
   "display_name": "Python 3 (ipykernel)",
   "language": "python",
   "name": "python3"
  },
  "language_info": {
   "codemirror_mode": {
    "name": "ipython",
    "version": 3
   },
   "file_extension": ".py",
   "mimetype": "text/x-python",
   "name": "python",
   "nbconvert_exporter": "python",
   "pygments_lexer": "ipython3",
   "version": "3.9.16"
  }
 },
 "nbformat": 4,
 "nbformat_minor": 5
}
